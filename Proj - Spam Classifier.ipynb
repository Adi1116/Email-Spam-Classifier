# -*- coding: utf-8 -*-
"""
Created on Mon Jun 12 15:35:29 2023

@author: aditya
"""
import pandas as pd
import nltk

email = pd.read_csv("E:\ANACONDA\Spam Email.csv")
email.head()
text = email.loc[:,"text"]

import re
from nltk.stem.porter import PorterStemmer
from nltk.corpus import stopwords

ps = PorterStemmer()
new = []


for i in range(0, len(email)):
    review = re.sub('[^a-zA-Z]', ' ', str(text[i]))
    review = review.lower()
    review = review.split()
    review = [ps.stem(word) for word in review if word not in set (stopwords.words('english'))]
    review = ' '.join(review)
    new.append(review)

from sklearn.feature_extraction.text import TfidfVectorizer
tf_idf = TfidfVectorizer()
x = tf_idf.fit_transform(new).toarray()

y = pd.get_dummies(email["spam"])
y=y.iloc[:,1].values

from sklearn.model_selection import train_test_split
x_train, x_test, y_train, y_test = train_test_split(x, y, test_size = 0.15, random_state = 0)

from sklearn.naive_bayes import MultinomialNB
spam_detect_model = MultinomialNB().fit(x_train, y_train)
y_pred=spam_detect_model.predict(x_test)

from sklearn.metrics import confusion_matrix
cm = confusion_matrix(y_test, y_pred)

from sklearn.metrics import accuracy_score
accuracy = accuracy_score(y_test, y_pred)


prec =cm[1][1] / (cm[1][1] + cm[0][1])
rec = cm[1][1] / (cm[1][1] + cm[1][0])
f1_score = 2*prec*rec / (prec+rec)

accuracy*100

